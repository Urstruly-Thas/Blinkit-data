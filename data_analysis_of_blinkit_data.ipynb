{
  "nbformat": 4,
  "nbformat_minor": 0,
  "metadata": {
    "colab": {
      "provenance": []
    },
    "kernelspec": {
      "name": "python3",
      "display_name": "Python 3"
    },
    "language_info": {
      "name": "python"
    }
  },
  "cells": [
    {
      "cell_type": "code",
      "source": [
        "import pandas as pd\n",
        "import matplotlib.pyplot as plt\n",
        "import seaborn as sns\n",
        "from os import getcwd\n"
      ],
      "metadata": {
        "id": "VuzhJLW2FJ-W"
      },
      "execution_count": 7,
      "outputs": []
    },
    {
      "cell_type": "code",
      "source": [
        "print(getcwd())"
      ],
      "metadata": {
        "colab": {
          "base_uri": "https://localhost:8080/",
          "height": 0
        },
        "id": "9MgZDDXRF6ag",
        "outputId": "3f1cb3bd-28bf-4e67-8571-3084fa2f53e1"
      },
      "execution_count": 8,
      "outputs": [
        {
          "output_type": "stream",
          "name": "stdout",
          "text": [
            "/content\n"
          ]
        }
      ]
    },
    {
      "cell_type": "code",
      "source": [
        "from google.colab import files\n",
        "uploaded = files.upload()\n"
      ],
      "metadata": {
        "colab": {
          "base_uri": "https://localhost:8080/",
          "height": 73
        },
        "id": "mVm37pbMGzSc",
        "outputId": "a3dc4fde-5db5-4968-9226-bf021dacd5b1"
      },
      "execution_count": 51,
      "outputs": [
        {
          "output_type": "display_data",
          "data": {
            "text/plain": [
              "<IPython.core.display.HTML object>"
            ],
            "text/html": [
              "\n",
              "     <input type=\"file\" id=\"files-01745197-31df-4234-bb12-b656b5169a24\" name=\"files[]\" multiple disabled\n",
              "        style=\"border:none\" />\n",
              "     <output id=\"result-01745197-31df-4234-bb12-b656b5169a24\">\n",
              "      Upload widget is only available when the cell has been executed in the\n",
              "      current browser session. Please rerun this cell to enable.\n",
              "      </output>\n",
              "      <script>// Copyright 2017 Google LLC\n",
              "//\n",
              "// Licensed under the Apache License, Version 2.0 (the \"License\");\n",
              "// you may not use this file except in compliance with the License.\n",
              "// You may obtain a copy of the License at\n",
              "//\n",
              "//      http://www.apache.org/licenses/LICENSE-2.0\n",
              "//\n",
              "// Unless required by applicable law or agreed to in writing, software\n",
              "// distributed under the License is distributed on an \"AS IS\" BASIS,\n",
              "// WITHOUT WARRANTIES OR CONDITIONS OF ANY KIND, either express or implied.\n",
              "// See the License for the specific language governing permissions and\n",
              "// limitations under the License.\n",
              "\n",
              "/**\n",
              " * @fileoverview Helpers for google.colab Python module.\n",
              " */\n",
              "(function(scope) {\n",
              "function span(text, styleAttributes = {}) {\n",
              "  const element = document.createElement('span');\n",
              "  element.textContent = text;\n",
              "  for (const key of Object.keys(styleAttributes)) {\n",
              "    element.style[key] = styleAttributes[key];\n",
              "  }\n",
              "  return element;\n",
              "}\n",
              "\n",
              "// Max number of bytes which will be uploaded at a time.\n",
              "const MAX_PAYLOAD_SIZE = 100 * 1024;\n",
              "\n",
              "function _uploadFiles(inputId, outputId) {\n",
              "  const steps = uploadFilesStep(inputId, outputId);\n",
              "  const outputElement = document.getElementById(outputId);\n",
              "  // Cache steps on the outputElement to make it available for the next call\n",
              "  // to uploadFilesContinue from Python.\n",
              "  outputElement.steps = steps;\n",
              "\n",
              "  return _uploadFilesContinue(outputId);\n",
              "}\n",
              "\n",
              "// This is roughly an async generator (not supported in the browser yet),\n",
              "// where there are multiple asynchronous steps and the Python side is going\n",
              "// to poll for completion of each step.\n",
              "// This uses a Promise to block the python side on completion of each step,\n",
              "// then passes the result of the previous step as the input to the next step.\n",
              "function _uploadFilesContinue(outputId) {\n",
              "  const outputElement = document.getElementById(outputId);\n",
              "  const steps = outputElement.steps;\n",
              "\n",
              "  const next = steps.next(outputElement.lastPromiseValue);\n",
              "  return Promise.resolve(next.value.promise).then((value) => {\n",
              "    // Cache the last promise value to make it available to the next\n",
              "    // step of the generator.\n",
              "    outputElement.lastPromiseValue = value;\n",
              "    return next.value.response;\n",
              "  });\n",
              "}\n",
              "\n",
              "/**\n",
              " * Generator function which is called between each async step of the upload\n",
              " * process.\n",
              " * @param {string} inputId Element ID of the input file picker element.\n",
              " * @param {string} outputId Element ID of the output display.\n",
              " * @return {!Iterable<!Object>} Iterable of next steps.\n",
              " */\n",
              "function* uploadFilesStep(inputId, outputId) {\n",
              "  const inputElement = document.getElementById(inputId);\n",
              "  inputElement.disabled = false;\n",
              "\n",
              "  const outputElement = document.getElementById(outputId);\n",
              "  outputElement.innerHTML = '';\n",
              "\n",
              "  const pickedPromise = new Promise((resolve) => {\n",
              "    inputElement.addEventListener('change', (e) => {\n",
              "      resolve(e.target.files);\n",
              "    });\n",
              "  });\n",
              "\n",
              "  const cancel = document.createElement('button');\n",
              "  inputElement.parentElement.appendChild(cancel);\n",
              "  cancel.textContent = 'Cancel upload';\n",
              "  const cancelPromise = new Promise((resolve) => {\n",
              "    cancel.onclick = () => {\n",
              "      resolve(null);\n",
              "    };\n",
              "  });\n",
              "\n",
              "  // Wait for the user to pick the files.\n",
              "  const files = yield {\n",
              "    promise: Promise.race([pickedPromise, cancelPromise]),\n",
              "    response: {\n",
              "      action: 'starting',\n",
              "    }\n",
              "  };\n",
              "\n",
              "  cancel.remove();\n",
              "\n",
              "  // Disable the input element since further picks are not allowed.\n",
              "  inputElement.disabled = true;\n",
              "\n",
              "  if (!files) {\n",
              "    return {\n",
              "      response: {\n",
              "        action: 'complete',\n",
              "      }\n",
              "    };\n",
              "  }\n",
              "\n",
              "  for (const file of files) {\n",
              "    const li = document.createElement('li');\n",
              "    li.append(span(file.name, {fontWeight: 'bold'}));\n",
              "    li.append(span(\n",
              "        `(${file.type || 'n/a'}) - ${file.size} bytes, ` +\n",
              "        `last modified: ${\n",
              "            file.lastModifiedDate ? file.lastModifiedDate.toLocaleDateString() :\n",
              "                                    'n/a'} - `));\n",
              "    const percent = span('0% done');\n",
              "    li.appendChild(percent);\n",
              "\n",
              "    outputElement.appendChild(li);\n",
              "\n",
              "    const fileDataPromise = new Promise((resolve) => {\n",
              "      const reader = new FileReader();\n",
              "      reader.onload = (e) => {\n",
              "        resolve(e.target.result);\n",
              "      };\n",
              "      reader.readAsArrayBuffer(file);\n",
              "    });\n",
              "    // Wait for the data to be ready.\n",
              "    let fileData = yield {\n",
              "      promise: fileDataPromise,\n",
              "      response: {\n",
              "        action: 'continue',\n",
              "      }\n",
              "    };\n",
              "\n",
              "    // Use a chunked sending to avoid message size limits. See b/62115660.\n",
              "    let position = 0;\n",
              "    do {\n",
              "      const length = Math.min(fileData.byteLength - position, MAX_PAYLOAD_SIZE);\n",
              "      const chunk = new Uint8Array(fileData, position, length);\n",
              "      position += length;\n",
              "\n",
              "      const base64 = btoa(String.fromCharCode.apply(null, chunk));\n",
              "      yield {\n",
              "        response: {\n",
              "          action: 'append',\n",
              "          file: file.name,\n",
              "          data: base64,\n",
              "        },\n",
              "      };\n",
              "\n",
              "      let percentDone = fileData.byteLength === 0 ?\n",
              "          100 :\n",
              "          Math.round((position / fileData.byteLength) * 100);\n",
              "      percent.textContent = `${percentDone}% done`;\n",
              "\n",
              "    } while (position < fileData.byteLength);\n",
              "  }\n",
              "\n",
              "  // All done.\n",
              "  yield {\n",
              "    response: {\n",
              "      action: 'complete',\n",
              "    }\n",
              "  };\n",
              "}\n",
              "\n",
              "scope.google = scope.google || {};\n",
              "scope.google.colab = scope.google.colab || {};\n",
              "scope.google.colab._files = {\n",
              "  _uploadFiles,\n",
              "  _uploadFilesContinue,\n",
              "};\n",
              "})(self);\n",
              "</script> "
            ]
          },
          "metadata": {}
        },
        {
          "output_type": "stream",
          "name": "stdout",
          "text": [
            "Saving Cleaned Blinkit Grocery Data.xlsx to Cleaned Blinkit Grocery Data (2).xlsx\n"
          ]
        }
      ]
    },
    {
      "cell_type": "code",
      "source": [
        "df = pd.read_excel('Cleaned Blinkit Grocery Data (2).xlsx')\n"
      ],
      "metadata": {
        "id": "q1DvjPXpFP2R"
      },
      "execution_count": 53,
      "outputs": []
    },
    {
      "cell_type": "code",
      "source": [
        "#1 Find the total number of unique items and outlets using nunique\n",
        "\n",
        "print(f\" There are {df['Item_Identifier'].nunique()} unique items\")\n",
        "print(f\" There are {df['Outlet_Identifier'].nunique()} unique outlets\")\n"
      ],
      "metadata": {
        "colab": {
          "base_uri": "https://localhost:8080/"
        },
        "id": "iVMNl2y5M3kJ",
        "outputId": "28c2a96b-4bdd-4473-8170-5ab14e33db30"
      },
      "execution_count": 90,
      "outputs": [
        {
          "output_type": "stream",
          "name": "stdout",
          "text": [
            " There are 1535 unique items\n",
            " There are 5 unique outlets\n"
          ]
        }
      ]
    },
    {
      "cell_type": "code",
      "source": [
        "#2 Find the Highes grossing outlet\n",
        "\n",
        "highest_outlet = df.groupby('Outlet_Identifier')['Item_Outlet_Sales'].sum().sort_values(ascending=False).head(1)\n",
        "print(f\"The highest grossing outlet is {highest_outlet.index[0]}\")\n",
        "\n",
        "df.groupby('Outlet_Identifier')['Item_Outlet_Sales'].sum().sort_values(ascending=False)"
      ],
      "metadata": {
        "colab": {
          "base_uri": "https://localhost:8080/",
          "height": 289
        },
        "id": "bO0Bobo4NbSx",
        "outputId": "4876b20c-7e43-4fd6-e70e-3bb296e56076"
      },
      "execution_count": 95,
      "outputs": [
        {
          "output_type": "stream",
          "name": "stdout",
          "text": [
            "The highest grossing outlet is OUT035\n"
          ]
        },
        {
          "output_type": "execute_result",
          "data": {
            "text/plain": [
              "Outlet_Identifier\n",
              "OUT035    2.268123e+06\n",
              "OUT049    2.183970e+06\n",
              "OUT013    2.142664e+06\n",
              "OUT046    2.118395e+06\n",
              "OUT018    1.851823e+06\n",
              "Name: Item_Outlet_Sales, dtype: float64"
            ],
            "text/html": [
              "<div>\n",
              "<style scoped>\n",
              "    .dataframe tbody tr th:only-of-type {\n",
              "        vertical-align: middle;\n",
              "    }\n",
              "\n",
              "    .dataframe tbody tr th {\n",
              "        vertical-align: top;\n",
              "    }\n",
              "\n",
              "    .dataframe thead th {\n",
              "        text-align: right;\n",
              "    }\n",
              "</style>\n",
              "<table border=\"1\" class=\"dataframe\">\n",
              "  <thead>\n",
              "    <tr style=\"text-align: right;\">\n",
              "      <th></th>\n",
              "      <th>Item_Outlet_Sales</th>\n",
              "    </tr>\n",
              "    <tr>\n",
              "      <th>Outlet_Identifier</th>\n",
              "      <th></th>\n",
              "    </tr>\n",
              "  </thead>\n",
              "  <tbody>\n",
              "    <tr>\n",
              "      <th>OUT035</th>\n",
              "      <td>2.268123e+06</td>\n",
              "    </tr>\n",
              "    <tr>\n",
              "      <th>OUT049</th>\n",
              "      <td>2.183970e+06</td>\n",
              "    </tr>\n",
              "    <tr>\n",
              "      <th>OUT013</th>\n",
              "      <td>2.142664e+06</td>\n",
              "    </tr>\n",
              "    <tr>\n",
              "      <th>OUT046</th>\n",
              "      <td>2.118395e+06</td>\n",
              "    </tr>\n",
              "    <tr>\n",
              "      <th>OUT018</th>\n",
              "      <td>1.851823e+06</td>\n",
              "    </tr>\n",
              "  </tbody>\n",
              "</table>\n",
              "</div><br><label><b>dtype:</b> float64</label>"
            ]
          },
          "metadata": {},
          "execution_count": 95
        }
      ]
    },
    {
      "cell_type": "code",
      "source": [
        "#3 Find the top 10 best selling products\n",
        "\n",
        "top_10 = df.groupby('Item_Identifier')['Item_Outlet_Sales'].sum().sort_values(ascending=False).head(10)\n",
        "print(f\"The top 10 best selling products are {top_10.index.tolist()}\")\n"
      ],
      "metadata": {
        "colab": {
          "base_uri": "https://localhost:8080/"
        },
        "id": "dIE-6sJeOKbP",
        "outputId": "7c786758-ca42-4cf1-cb16-eb1a361e12dc"
      },
      "execution_count": 92,
      "outputs": [
        {
          "output_type": "stream",
          "name": "stdout",
          "text": [
            "The top 10 best selling products are ['FDL58', 'FDY55', 'FDD44', 'FDA04', 'FDB15', 'FDA15', 'FDC02', 'FDK21', 'FDN58', 'FDQ39']\n"
          ]
        }
      ]
    },
    {
      "cell_type": "code",
      "source": [
        "#4 Find most profitable Item Types\n",
        "\n",
        "most_profitable = df.groupby('Item_Type')['Item_Outlet_Sales'].sum().sort_values(ascending=False).head(1)\n",
        "print(f\"The most profitable item type is {most_profitable.index[0]}\")\n",
        "\n",
        "\n",
        "df.groupby('Item_Type')['Item_Outlet_Sales'].sum().sort_values(ascending=False)"
      ],
      "metadata": {
        "colab": {
          "base_uri": "https://localhost:8080/",
          "height": 634
        },
        "id": "I2cOZjOhQUNd",
        "outputId": "556bb598-d7e9-41d7-8065-27e020ce9f0f"
      },
      "execution_count": 94,
      "outputs": [
        {
          "output_type": "stream",
          "name": "stdout",
          "text": [
            "The most profitable item type is Snack Foods\n"
          ]
        },
        {
          "output_type": "execute_result",
          "data": {
            "text/plain": [
              "Item_Type\n",
              "Snack Foods              1.568592e+06\n",
              "Fruits and Vegetables    1.549511e+06\n",
              "Household                1.188504e+06\n",
              "Frozen Foods             1.059900e+06\n",
              "Dairy                    8.882198e+05\n",
              "Canned                   7.960811e+05\n",
              "Baking Goods             7.184262e+05\n",
              "Health and Hygiene       5.922457e+05\n",
              "Meat                     4.972714e+05\n",
              "Soft Drinks              4.941315e+05\n",
              "Breads                   3.154407e+05\n",
              "Hard Drinks              2.612932e+05\n",
              "Starchy Foods            2.160887e+05\n",
              "Others                   1.996714e+05\n",
              "Breakfast                1.277837e+05\n",
              "Seafood                  9.181382e+04\n",
              "Name: Item_Outlet_Sales, dtype: float64"
            ],
            "text/html": [
              "<div>\n",
              "<style scoped>\n",
              "    .dataframe tbody tr th:only-of-type {\n",
              "        vertical-align: middle;\n",
              "    }\n",
              "\n",
              "    .dataframe tbody tr th {\n",
              "        vertical-align: top;\n",
              "    }\n",
              "\n",
              "    .dataframe thead th {\n",
              "        text-align: right;\n",
              "    }\n",
              "</style>\n",
              "<table border=\"1\" class=\"dataframe\">\n",
              "  <thead>\n",
              "    <tr style=\"text-align: right;\">\n",
              "      <th></th>\n",
              "      <th>Item_Outlet_Sales</th>\n",
              "    </tr>\n",
              "    <tr>\n",
              "      <th>Item_Type</th>\n",
              "      <th></th>\n",
              "    </tr>\n",
              "  </thead>\n",
              "  <tbody>\n",
              "    <tr>\n",
              "      <th>Snack Foods</th>\n",
              "      <td>1.568592e+06</td>\n",
              "    </tr>\n",
              "    <tr>\n",
              "      <th>Fruits and Vegetables</th>\n",
              "      <td>1.549511e+06</td>\n",
              "    </tr>\n",
              "    <tr>\n",
              "      <th>Household</th>\n",
              "      <td>1.188504e+06</td>\n",
              "    </tr>\n",
              "    <tr>\n",
              "      <th>Frozen Foods</th>\n",
              "      <td>1.059900e+06</td>\n",
              "    </tr>\n",
              "    <tr>\n",
              "      <th>Dairy</th>\n",
              "      <td>8.882198e+05</td>\n",
              "    </tr>\n",
              "    <tr>\n",
              "      <th>Canned</th>\n",
              "      <td>7.960811e+05</td>\n",
              "    </tr>\n",
              "    <tr>\n",
              "      <th>Baking Goods</th>\n",
              "      <td>7.184262e+05</td>\n",
              "    </tr>\n",
              "    <tr>\n",
              "      <th>Health and Hygiene</th>\n",
              "      <td>5.922457e+05</td>\n",
              "    </tr>\n",
              "    <tr>\n",
              "      <th>Meat</th>\n",
              "      <td>4.972714e+05</td>\n",
              "    </tr>\n",
              "    <tr>\n",
              "      <th>Soft Drinks</th>\n",
              "      <td>4.941315e+05</td>\n",
              "    </tr>\n",
              "    <tr>\n",
              "      <th>Breads</th>\n",
              "      <td>3.154407e+05</td>\n",
              "    </tr>\n",
              "    <tr>\n",
              "      <th>Hard Drinks</th>\n",
              "      <td>2.612932e+05</td>\n",
              "    </tr>\n",
              "    <tr>\n",
              "      <th>Starchy Foods</th>\n",
              "      <td>2.160887e+05</td>\n",
              "    </tr>\n",
              "    <tr>\n",
              "      <th>Others</th>\n",
              "      <td>1.996714e+05</td>\n",
              "    </tr>\n",
              "    <tr>\n",
              "      <th>Breakfast</th>\n",
              "      <td>1.277837e+05</td>\n",
              "    </tr>\n",
              "    <tr>\n",
              "      <th>Seafood</th>\n",
              "      <td>9.181382e+04</td>\n",
              "    </tr>\n",
              "  </tbody>\n",
              "</table>\n",
              "</div><br><label><b>dtype:</b> float64</label>"
            ]
          },
          "metadata": {},
          "execution_count": 94
        }
      ]
    },
    {
      "cell_type": "code",
      "source": [
        "#5 Compare the sales between low fat and regular products\n",
        "\n",
        "fat = df.groupby('Item_Fat_Content')['Item_Outlet_Sales'].sum().sort_values()\n",
        "print(fat)\n",
        "sns.barplot(x=fat.index, y=fat.values)\n",
        "plt.xlabel('Item Fat Content')\n",
        "plt.ylabel('Sales')\n",
        "plt.title('Sales by Item Fat Content')\n",
        "plt.show()"
      ],
      "metadata": {
        "colab": {
          "base_uri": "https://localhost:8080/",
          "height": 541
        },
        "id": "fIUBugwpRhDb",
        "outputId": "678dfd5c-2b17-4d53-9969-64fbb0962996"
      },
      "execution_count": 56,
      "outputs": [
        {
          "output_type": "stream",
          "name": "stdout",
          "text": [
            "Item_Fat_Content\n",
            "Regular    3769240.276\n",
            "Low Fat    6795734.046\n",
            "Name: Item_Outlet_Sales, dtype: float64\n"
          ]
        },
        {
          "output_type": "display_data",
          "data": {
            "text/plain": [
              "<Figure size 640x480 with 1 Axes>"
            ],
            "image/png": "[encoded data removed]"
          },
          "metadata": {}
        }
      ]
    },
    {
      "cell_type": "code",
      "source": [
        "#6 Compare Performance by Outlet_size and outlet_type\n",
        "\n",
        "outlet_size = df.groupby('Outlet_Size')['Item_Outlet_Sales'].sum().sort_values()\n",
        "print(outlet_size)\n",
        "print(\" \")\n",
        "outlet_type = df.groupby('Outlet_Type')['Item_Outlet_Sales'].sum().sort_values()\n",
        "print(outlet_type)\n",
        "\n",
        "fig, axs = plt.subplots(1, 2, figsize=(10, 5))\n",
        "\n",
        "sns.barplot(x=outlet_size.index, y=outlet_size.values, ax=axs[0], palette='pastel')\n",
        "axs[0].set_xlabel('Outlet Size')\n",
        "axs[0].set_ylabel('Sales')\n",
        "axs[0].set_title('Sales by Outlet Size')\n",
        "\n",
        "sns.barplot(x=outlet_type.index, y=outlet_type.values, ax=axs[1], palette= 'muted')\n",
        "axs[1].set_xlabel('Outlet Type')\n",
        "axs[1].set_ylabel('Sales')\n",
        "axs[1].set_title('Sales by Outlet Type')\n",
        "\n",
        "plt.tight_layout()\n",
        "plt.show()\n"
      ],
      "metadata": {
        "colab": {
          "base_uri": "https://localhost:8080/",
          "height": 681
        },
        "id": "ILZh55sdYIWD",
        "outputId": "6b1a43a8-e3fc-42a2-c061-0b2c5e26f3df"
      },
      "execution_count": 77,
      "outputs": [
        {
          "output_type": "stream",
          "name": "stdout",
          "text": [
            "Outlet_Size\n",
            "High      2.142664e+06\n",
            "Medium    4.035793e+06\n",
            "Small     4.386518e+06\n",
            "Name: Item_Outlet_Sales, dtype: float64\n",
            " \n",
            "Outlet_Type\n",
            "Supermarket Type2    1851822.830\n",
            "Supermarket Type1    8713151.492\n",
            "Name: Item_Outlet_Sales, dtype: float64\n"
          ]
        },
        {
          "output_type": "display_data",
          "data": {
            "text/plain": [
              "<Figure size 1000x500 with 2 Axes>"
            ],
            "image/png": "[encoded data removed]"
          },
          "metadata": {}
        }
      ]
    },
    {
      "cell_type": "code",
      "source": [
        "#7 Average MRP across different product categories\n",
        "\n",
        "avg_mrp = df.groupby('Item_Type')['Item_MRP'].mean().sort_values()\n",
        "print(avg_mrp)"
      ],
      "metadata": {
        "colab": {
          "base_uri": "https://localhost:8080/",
          "height": 0
        },
        "id": "qvRJf0CkaqJ3",
        "outputId": "d9bd66ad-74b6-440d-a779-a58c75616793"
      },
      "execution_count": 78,
      "outputs": [
        {
          "output_type": "stream",
          "name": "stdout",
          "text": [
            "Item_Type\n",
            "Baking Goods             125.795653\n",
            "Soft Drinks              130.910182\n",
            "Health and Hygiene       131.437324\n",
            "Breakfast                134.090683\n",
            "Others                   137.640870\n",
            "Canned                   138.551179\n",
            "Frozen Foods             140.095830\n",
            "Hard Drinks              140.102908\n",
            "Meat                     140.279344\n",
            "Breads                   141.300639\n",
            "Fruits and Vegetables    145.418257\n",
            "Seafood                  146.595782\n",
            "Snack Foods              147.569955\n",
            "Dairy                    149.481471\n",
            "Household                149.884244\n",
            "Starchy Foods            151.256747\n",
            "Name: Item_MRP, dtype: float64\n"
          ]
        }
      ]
    },
    {
      "cell_type": "code",
      "source": [
        "#8 Correlation between variables like price, visibility, and sales\n",
        "\n",
        "correlation = df[['Item_MRP', 'Item_Visibility', 'Item_Outlet_Sales']].corr()\n",
        "print(correlation)\n",
        "\n",
        "sns.heatmap(correlation, annot=True, cmap='coolwarm')\n",
        "plt.title('Correlation Heatmap')\n",
        "plt.show()"
      ],
      "metadata": {
        "colab": {
          "base_uri": "https://localhost:8080/",
          "height": 521
        },
        "id": "3hII1H6Fa6lq",
        "outputId": "3d5b04a1-9544-4dfd-cadb-104c2b4a8d25"
      },
      "execution_count": 89,
      "outputs": [
        {
          "output_type": "stream",
          "name": "stdout",
          "text": [
            "                   Item_MRP  Item_Visibility  Item_Outlet_Sales\n",
            "Item_MRP           1.000000        -0.007292           0.679594\n",
            "Item_Visibility   -0.007292         1.000000          -0.009644\n",
            "Item_Outlet_Sales  0.679594        -0.009644           1.000000\n"
          ]
        },
        {
          "output_type": "display_data",
          "data": {
            "text/plain": [
              "<Figure size 640x480 with 2 Axes>"
            ],
            "image/png": "[encoded data removed]"
          },
          "metadata": {}
        }
      ]
    },
    {
      "cell_type": "code",
      "source": [
        "#9 Find the relation between establishment year and Outlet performance\n",
        "\n",
        "establishment_year = df.groupby('Outlet_Establishment_Year')['Item_Outlet_Sales'].sum().sort_index()\n",
        "print(establishment_year)\n",
        "\n",
        "sns.lineplot(x=establishment_year.index, y=establishment_year.values, palette= 'set2')\n",
        "plt.xlabel('Outlet Establishment Year')\n",
        "plt.ylabel('Sales')\n",
        "plt.title('Sales by Outlet Establishment Year')\n",
        "plt.show()"
      ],
      "metadata": {
        "colab": {
          "base_uri": "https://localhost:8080/",
          "height": 593
        },
        "id": "zJXmb2sHbKZ8",
        "outputId": "f796d431-0ee7-41d0-c959-4454746e989d"
      },
      "execution_count": 84,
      "outputs": [
        {
          "output_type": "stream",
          "name": "stdout",
          "text": [
            "Outlet_Establishment_Year\n",
            "1987    2.142664e+06\n",
            "1997    2.118395e+06\n",
            "1999    2.183970e+06\n",
            "2004    2.268123e+06\n",
            "2009    1.851823e+06\n",
            "Name: Item_Outlet_Sales, dtype: float64\n"
          ]
        },
        {
          "output_type": "display_data",
          "data": {
            "text/plain": [
              "<Figure size 640x480 with 1 Axes>"
            ],
            "image/png": "[encoded data removed]"
          },
          "metadata": {}
        }
      ]
    },
    {
      "cell_type": "code",
      "source": [
        "#10 Top performing Location\n",
        "\n",
        "top_location = df.groupby('Outlet_Location_Type')['Item_Outlet_Sales'].sum().sort_values(ascending=False).head(1)\n",
        "print(f\"The top performing location is {top_location.index[0]}\")"
      ],
      "metadata": {
        "colab": {
          "base_uri": "https://localhost:8080/",
          "height": 0
        },
        "id": "IM9IakV7bLZB",
        "outputId": "e352b552-1f0f-49ba-801b-e6ee6791972e"
      },
      "execution_count": 79,
      "outputs": [
        {
          "output_type": "stream",
          "name": "stdout",
          "text": [
            "The top performing location is Tier 1\n"
          ]
        }
      ]
    }
  ]
}